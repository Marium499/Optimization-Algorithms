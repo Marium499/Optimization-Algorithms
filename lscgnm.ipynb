{
 "cells": [
  {
   "cell_type": "markdown",
   "metadata": {},
   "source": [
    "## Sparse Recovery via Least Squares-Constrained Generalized Norm Minimization (LSCGNM)\n",
    "\n",
    "This notebook applies **LSCGNM** to extract a sparse time-frequency representation of a short segment\n",
    "from the classical piece *Für Elise*. It reconstructs sparse coefficients for a piano-frequency dictionary\n",
    "under a least squares constraint using proximal optimization and binary search.\n"
   ]
  },
  {
   "cell_type": "code",
   "execution_count": 1,
   "metadata": {},
   "outputs": [],
   "source": [
    "import numpy as np\n",
    "from scipy.io import wavfile"
   ]
  },
  {
   "cell_type": "markdown",
   "metadata": {},
   "source": [
    "### Audio Preprocessing\n",
    "- Load and normalize the audio file (*Für Elise*)\n",
    "- Segment the waveform into short 30ms blocks using `get_audio_chunks`\n"
   ]
  },
  {
   "cell_type": "code",
   "execution_count": 2,
   "metadata": {},
   "outputs": [],
   "source": [
    "def rescale_audio(data):\n",
    "    if data.min() < -1 or data.max() > 1:\n",
    "        data = data / max(abs(data.min()), abs(data.max()))\n",
    "\n",
    "    return data\n",
    "\n",
    "def get_audio_chunks(data, chunk_size):\n",
    "    for i in range(0, len(data), chunk_size):\n",
    "        yield data[i:i + chunk_size]\n"
   ]
  },
  {
   "cell_type": "markdown",
   "metadata": {},
   "source": [
    "### Optimization Functions\n",
    "- `grad_least_squares`: Computes gradient of the least squares objective \\( \\nabla_x \\|Ax - y\\|^2 \\)\n",
    "- `prox12norm`: Proximal operator for group-sparse 1-2 norm\n",
    "- `apgd`: Accelerated Proximal Gradient Descent algorithm\n"
   ]
  },
  {
   "cell_type": "code",
   "execution_count": 4,
   "metadata": {},
   "outputs": [],
   "source": [
    "def grad_least_squares(A, x, y):\n",
    "    return A.T @ (A @ x - y)\n",
    "\n",
    "def prox12norm(x, gamma, d=2):\n",
    "    x = x.reshape(-1, d)\n",
    "    norm = np.linalg.norm(x, axis=1, keepdims=True)\n",
    "    factor = np.maximum(1 - gamma / norm, 0)\n",
    "    x = factor * x\n",
    "\n",
    "    return x.reshape(-1)\n",
    "\n",
    "\n",
    "def apgd(gradf, proxf, gamma, L, x, tol=1e-6, maxit=1e5):\n",
    "    # x = x0\n",
    "    z = x.copy()\n",
    "    t = 1\n",
    "    step_size = 1 / L\n",
    "    for i in range(maxit):\n",
    "        # grad step\n",
    "        grad = gradf(z)\n",
    "        x_next = proxf(z-step_size*grad, gamma*step_size)\n",
    "        # momentum step\n",
    "        t_new = (1 + np.sqrt(1 + 4 * t ** 2)) / 2\n",
    "        z_next = x_next + ((t - 1) / t_new) * (x_next - x)\n",
    "\n",
    "        if np.linalg.norm(x_next-x) <= tol:\n",
    "            # print(z)\n",
    "            return x_next,i\n",
    "        t = t_new\n",
    "        x = x_next\n",
    "        z = z_next\n",
    "\n",
    "\n",
    "        \n",
    "    # print(z)\n",
    "    return x, maxit+1"
   ]
  },
  {
   "cell_type": "markdown",
   "metadata": {},
   "source": [
    "### Frequency Dictionary\n",
    "- `get_piano_keys`: Generates the fundamental frequencies for the 88 piano keys\n",
    "- `get_A`: Constructs a matrix of sine and cosine basis vectors using piano frequencies\n"
   ]
  },
  {
   "cell_type": "code",
   "execution_count": 5,
   "metadata": {},
   "outputs": [],
   "source": [
    "def get_piano_keys():\n",
    "    keys = [27.5 * (2 ** (i / 12)) for i in range(88)]\n",
    "    return keys\n",
    "\n",
    "def get_A(frequencies, f_s, l):\n",
    "    A = np.zeros((l, 2*len(frequencies)))\n",
    "    for i, f in enumerate(frequencies):\n",
    "        for j in range(l):\n",
    "            A[j, 2 * i] = np.cos(2 * np.pi * f * j / f_s)\n",
    "            A[j, 2 * i + 1] = np.sin(2 * np.pi * f * j / f_s)\n",
    "    return A\n",
    "\n"
   ]
  },
  {
   "cell_type": "markdown",
   "metadata": {},
   "source": [
    "### LSCGNM Solver with Bisection\n",
    "- `lscgnm`: Solves a constrained recovery problem:\n",
    "\\[ \\min_x \\|x\\|_{1,2} \\quad \\text{subject to} \\quad \\|Ax - y\\|_2 \\leq \\sigma \\]\n",
    "- Uses binary search to tune the regularization parameter `γ` such that the constraint is satisfied\n",
    "- Leverages APGD as the inner solver for each γ trial\n"
   ]
  },
  {
   "cell_type": "code",
   "execution_count": 6,
   "metadata": {},
   "outputs": [],
   "source": [
    "def lscgnm(A, y, sigma, d, tol, gnrls_x0, gnrls_tol, gnrls_maxit):\n",
    "    L = np.linalg.norm(A.T @ A, ord=2)\n",
    "    gamma0 = 1e-6\n",
    "    x, _ = apgd(lambda x: grad_least_squares(A, x, y), lambda x, t: prox12norm(x, t, d), gamma0, L, gnrls_x0, gnrls_tol, gnrls_maxit)\n",
    "    sigma0 = np.linalg.norm(A @ x - y)\n",
    "    # print(sigma0)\n",
    "    sigma_max = np.linalg.norm(y)\n",
    "    # print(sigma_max)\n",
    "    if sigma >= sigma0:\n",
    "        if sigma >= sigma_max:\n",
    "            x = np.zeros(A.shape[1])\n",
    "            gamma_opt = np.Infinity\n",
    "            return x, gamma_opt\n",
    "        else:\n",
    "            gamma_u = 1\n",
    "            while True:\n",
    "                x, _ = apgd(lambda x: grad_least_squares(A, x, y), lambda x, t: prox12norm(x, t, d), gamma_u, L, gnrls_x0, gnrls_tol, gnrls_maxit)\n",
    "                norm = np.linalg.norm(A @ x - y)\n",
    "\n",
    "                if norm > sigma:\n",
    "                    gamma_opt = gamma_u\n",
    "                    break\n",
    "                gamma_u = 2 * gamma_u\n",
    "            \n",
    "            #bisection\n",
    "            gamma_l = 0\n",
    "            num_iterations = 0\n",
    "            while gamma_u - gamma_l > tol:\n",
    "                gamma_mid = (gamma_l + gamma_u) / 2\n",
    "                x_opt, _ = apgd(lambda x: grad_least_squares(A, x, y), lambda x, t: prox12norm(x, t, d), gamma_mid, L, gnrls_x0, gnrls_tol, gnrls_maxit)\n",
    "                error = np.linalg.norm(A @ x_opt - y)\n",
    "\n",
    "                if error < sigma:\n",
    "                    gamma_l = gamma_mid\n",
    "                else:\n",
    "                    gamma_u = gamma_mid\n",
    "\n",
    "                num_iterations += 1\n",
    "\n",
    "            gamma_star = (gamma_l + gamma_u) / 2\n",
    "            return x_opt, gamma_star\n",
    "                \n",
    "    else:\n",
    "        gamma_opt = -1\n",
    "        return None, gamma_opt\n"
   ]
  },
  {
   "cell_type": "markdown",
   "metadata": {},
   "source": [
    "### Driver Function for Recovery Across σ Values\n",
    "- `lscgnm_driver`: Runs the LSCGNM recovery for a single audio block\n",
    "- Sweeps over a list of σ values to study the trade-off between error tolerance and sparsity\n"
   ]
  },
  {
   "cell_type": "code",
   "execution_count": 7,
   "metadata": {},
   "outputs": [],
   "source": [
    "def lscgnm_driver(block, f_s, l,d=2, tol=1e-3, gnrls_tol = 1e-6, gnrls_maxit=10**5):\n",
    "\n",
    "    f = get_piano_keys()\n",
    "    A = get_A(f, f_s, l)\n",
    "    L = np.linalg.norm(A.T @ A, ord=2)\n",
    "    result = []\n",
    "    x0 = np.zeros(A.shape[1])\n",
    "    sigma_list = [0.1, 0.2, 0.3, 0.4, 0.5, 0.6, 0.7, 0.8, 0.9, 1.0]\n",
    "    d = 2\n",
    "    for i, sigma in enumerate(sigma_list):\n",
    "        x, gamma = lscgnm(A, block, sigma, d, tol, x0, gnrls_tol, gnrls_maxit)\n",
    "        result.append(x)\n",
    "        print(f\"| sigma: {sigma} | gamma: {gamma} |\")\n",
    "    return result\n"
   ]
  },
  {
   "cell_type": "markdown",
   "metadata": {},
   "source": [
    "### Example Execution\n",
    "- Load audio and segment it\n",
    "- Select one block (e.g., 349th)\n",
    "- Run LSCGNM driver to observe how γ changes with σ\n"
   ]
  },
  {
   "cell_type": "code",
   "execution_count": 8,
   "metadata": {},
   "outputs": [
    {
     "name": "stdout",
     "output_type": "stream",
     "text": [
      "| sigma: 0.1 | gamma: -1 |\n",
      "| sigma: 0.2 | gamma: -1 |\n",
      "| sigma: 0.3 | gamma: -1 |\n",
      "| sigma: 0.4 | gamma: 0.46337890625 |\n",
      "| sigma: 0.5 | gamma: 0.91357421875 |\n",
      "| sigma: 0.6 | gamma: 1.30908203125 |\n",
      "| sigma: 0.7 | gamma: 1.69482421875 |\n",
      "| sigma: 0.8 | gamma: 2.06884765625 |\n",
      "| sigma: 0.9 | gamma: 2.44580078125 |\n",
      "| sigma: 1.0 | gamma: 2.87744140625 |\n"
     ]
    }
   ],
   "source": [
    "samplerate, data_orig = wavfile.read('furelise.wav')\n",
    "data = data_orig / np.max(np.abs(data_orig))\n",
    "l = round(0.03 * samplerate)\n",
    "audio_chunks = list(get_audio_chunks(data, l))\n",
    "\n",
    "test_block = audio_chunks[349]\n",
    "result = lscgnm_driver(test_block, samplerate, l)\n"
   ]
  },
  {
   "cell_type": "code",
   "execution_count": null,
   "metadata": {},
   "outputs": [],
   "source": []
  }
 ],
 "metadata": {
  "kernelspec": {
   "display_name": "cs794_env",
   "language": "python",
   "name": "python3"
  },
  "language_info": {
   "codemirror_mode": {
    "name": "ipython",
    "version": 3
   },
   "file_extension": ".py",
   "mimetype": "text/x-python",
   "name": "python",
   "nbconvert_exporter": "python",
   "pygments_lexer": "ipython3",
   "version": "3.9.7"
  }
 },
 "nbformat": 4,
 "nbformat_minor": 2
}
