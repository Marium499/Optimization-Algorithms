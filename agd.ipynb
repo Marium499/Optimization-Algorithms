{
 "cells": [
  {
   "cell_type": "markdown",
   "metadata": {},
   "source": [
    "## 🏭 Facility Location Optimization with Accelerated Gradient Descent\n",
    "\n",
    "This notebook demonstrates the use of **Accelerated Gradient Descent (AGD)** to solve a facility location problem.\n",
    "Given a set of points in 2D space, the objective is to find a location for a facility such that it lies within\n",
    "a certain radius (e.g., 100 km) of as many points as possible. This is useful for placing service centers,\n",
    "warehouses, or emergency response units efficiently.\n"
   ]
  },
  {
   "cell_type": "markdown",
   "metadata": {},
   "source": [
    "### 🔄 Accelerated Gradient Descent Function\n",
    "\n",
    "This function implements **Nesterov's Accelerated Gradient Descent** to minimize a convex objective.\n",
    "It takes as input the gradient of the function, a Lipschitz constant `L`, initial point `y`, and\n",
    "other optimization parameters. It returns the solution vector and number of iterations until convergence."
   ]
  },
  {
   "cell_type": "code",
   "execution_count": 77,
   "metadata": {},
   "outputs": [],
   "source": [
    "import numpy as np\n",
    "import pandas as pd\n",
    "\n",
    "def accelerated_gradient_descent(gradf, L, y, tol, maxit):\n",
    "    y = np.array(y)\n",
    "    rho = 0\n",
    "    x = y\n",
    "    for i in range(maxit):\n",
    "        x_next = y - (1/L)*gradf(y,) # gradient step\n",
    "        roots = np.roots([1, (1 - rho**2), -1]) # solve the quadratic equation\n",
    "        rho_next = np.max(roots) # take the positive root\n",
    "        beta_next=rho_next*(rho**2) # calculate the next beta\n",
    "        y_next = x_next + beta_next*(x_next - x) # calculate the next y\n",
    "\n",
    "        y = y_next\n",
    "        x = x_next\n",
    "        rho = rho_next\n",
    "\n",
    "        if np.linalg.norm(gradf(y)) < tol:\n",
    "            return y, i\n",
    "    \n",
    "    return y, maxit+1\n"
   ]
  },
  {
   "cell_type": "markdown",
   "metadata": {},
   "source": [
    "### 📍 Facility Location Utilities\n",
    "\n",
    "These functions support the main optimization problem:\n",
    "- `count_points_in_circle`: Counts how many data points fall within a given radius from a center point.\n",
    "- `plot_facility_location`: Visualizes the facility location with a surrounding circle and data points.\n",
    "These are useful for evaluating and visualizing the impact of proposed facility placements."
   ]
  },
  {
   "cell_type": "code",
   "execution_count": 89,
   "metadata": {},
   "outputs": [],
   "source": [
    "import matplotlib.pyplot as plt\n",
    "\n",
    "def count_points_in_circle(A, x, rho):\n",
    "    \"\"\"\n",
    "    Counts the number of points in A that lie within the circle of radius rho around x.\n",
    "    \n",
    "    Parameters:\n",
    "        A (numpy array): Matrix of points a1, a2, ..., aN (size N x 2 for 2D points).\n",
    "        x (numpy array): Current facility location point (size 2).\n",
    "        rho (float): Radius (e.g., 100km = 100,000 meters).\n",
    "    \n",
    "    Returns:\n",
    "        int: Number of points inside the circle.\n",
    "    \"\"\"\n",
    "    distances = np.linalg.norm(A - x, axis=1)  # Compute distances from each point in A to x\n",
    "    count = np.sum(distances <= rho)  # Count how many points are within the radius\n",
    "    return count\n",
    "\n",
    "# Example usage to count points:\n",
    "\n",
    "\n",
    "\n",
    "def plot_facility_location(A, x, rho):\n",
    "    \"\"\"\n",
    "    Plots the facility location with all points in A, the facility location x,\n",
    "    and a circle of radius rho around x.\n",
    "    \n",
    "    Parameters:\n",
    "        A (numpy array): Matrix of points a1, a2, ..., aN (size N x 2 for 2D points).\n",
    "        x (numpy array): Current facility location point (size 2).\n",
    "        rho (float): Radius (e.g., 100km = 100,000 meters).\n",
    "    \"\"\"\n",
    "    # Create a figure and axis using plt.subplots(), and set the figure size\n",
    "    fig, ax = plt.subplots(figsize=(10, 10))  # Increase figure size to 10x10 inches\n",
    "    \n",
    "    # Plot all points in A as blue dots\n",
    "    ax.scatter(A[:, 0], A[:, 1], color='blue', label='Data points (A)', s=5)\n",
    "    \n",
    "    # Plot the facility location x as a red dot\n",
    "    ax.scatter(x[0], x[1], color='red', label='Facility Location (x)', s=5)\n",
    "    \n",
    "    # Create a circle with radius rho centered at x\n",
    "    circle = plt.Circle((x[0], x[1]), rho, color='red', fill=False, linestyle='dotted', label=f'{rho/1000}km Radius')\n",
    "    \n",
    "    # Add the circle to the plot using add_patch\n",
    "    ax.add_patch(circle)\n",
    "    \n",
    "    # Set axis limits based on the data to ensure all points and the circle are visible\n",
    "    x_min, x_max = np.min(A[:, 0]), np.max(A[:, 0])\n",
    "    y_min, y_max = np.min(A[:, 1]), np.max(A[:, 1])\n",
    "    \n",
    "    # Add some padding to the axis limits so that all points and the circle are fully visible\n",
    "    padding_x = (x_max - x_min) * 0.1  # 10% padding for x-axis\n",
    "    padding_y = (y_max - y_min) * 0.1  # 10% padding for y-axis\n",
    "    \n",
    "    # Set the axis limits to include all data points plus the padding\n",
    "    ax.set_xlim(min(x_min, x[0] - rho) - padding_x, max(x_max, x[0] + rho) + padding_x)\n",
    "    ax.set_ylim(min(y_min, x[1] - rho) - padding_y, max(y_max, x[1] + rho) + padding_y)\n",
    "    \n",
    "    # Set equal scaling for the axes to ensure the circle is not distorted\n",
    "    ax.set_aspect('equal', adjustable='box')\n",
    "    \n",
    "    # Add title and legend\n",
    "    ax.set_title(\"Facility Location with Radius\")\n",
    "    ax.legend(loc='best')\n",
    "    \n",
    "    # Set labels for x and y axes\n",
    "    ax.set_xlabel(\"X Coordinate\")\n",
    "    ax.set_ylabel(\"Y Coordinate\")\n",
    "    \n",
    "    # Add grid for better readability\n",
    "    ax.grid(True)\n",
    "    \n",
    "    # Show the plot\n",
    "    plt.show()\n",
    "\n"
   ]
  },
  {
   "cell_type": "code",
   "execution_count": 79,
   "metadata": {},
   "outputs": [],
   "source": [
    "def grad_family(A, x, rho):\n",
    "    # Compute the Euclidean distances from x to each point in A\n",
    "    dist = np.linalg.norm(A - x, axis=1)\n",
    "    \n",
    "    # Compute the mask for distances greater than rho\n",
    "    mask = dist > rho\n",
    "    \n",
    "    # Compute the gradient for points where ||x - a_i|| >= rho\n",
    "    gradient = np.sum(2 * (dist[mask] - rho)[:, np.newaxis] * (x - A[mask]) / dist[mask][:, np.newaxis], axis=0)\n",
    "    \n",
    "    return gradient\n"
   ]
  },
  {
   "cell_type": "code",
   "execution_count": 95,
   "metadata": {},
   "outputs": [],
   "source": [
    "def family_driver():\n",
    "    A = train_data\n",
    "    p = radius\n",
    "    grad_func = lambda x: grad_family(A, x, p)\n",
    "    y, it = accelerated_gradient_descent(gradf=grad_func, L=80000, y=[0,0],tol=20, maxit=10000 )\n",
    "    plot_facility_location(A, y, radius)\n",
    "    num_points_in_circle = count_points_in_circle(train_data, y, radius)\n",
    "    print(f\"Number of points inside the circle: {num_points_in_circle}\")\n",
    "    print(f\"Number of iterations: {it}\")\n",
    "    print(f\"Facility location: {y}\")\n"
   ]
  },
  {
   "cell_type": "code",
   "execution_count": null,
   "metadata": {},
   "outputs": [],
   "source": [
    "def huber_gradient_func(A, y, x, tau):\n",
    "    Ax_minus_y = np.dot(A, x) - y\n",
    "    gradient = np.where(abs(Ax_minus_y) <= tau, Ax_minus_y, np.where(Ax_minus_y > tau, tau, -tau))\n",
    "    gradient_sum = np.sum(A * gradient[:, np.newaxis], axis=0)\n",
    "    return gradient_sum"
   ]
  },
  {
   "cell_type": "code",
   "execution_count": 73,
   "metadata": {},
   "outputs": [],
   "source": [
    "def huber_gd(A, y, x, tau, L, tol, maxit):\n",
    "    \"\"\"\n",
    "    Huber loss function\n",
    "    :param A: numpy.ndarray of shape (m, n) containing the data\n",
    "        m is the number of data points\n",
    "        n is the number of features\n",
    "    :param y: numpy.ndarray of shape (m,) containing the correct labels\n",
    "    :param x: numpy.ndarray of shape (n,) containing the initial weights\n",
    "    :param tau: the maximum step size\n",
    "    :param L: the Lipschitz constant of the function\n",
    "    :param tol: the maximum tolerance for the result\n",
    "    :param maxit: the maximum number of iterations\n",
    "    :return: the optimal weight and the list of all the partial weights\n",
    "    \"\"\"\n",
    "    A = np.column_stack((np.ones(len(A)), A))\n",
    "    for i in range(maxit):\n",
    "        if i % 100000 == 0:\n",
    "            print(f'Iteration: {i} Weights: {x}')\n",
    "        grad_huber = huber_gradient_func(A, y, x, tau)\n",
    "        if np.linalg.norm(grad_huber) < tol:\n",
    "            return x, i\n",
    "        else:\n",
    "            x = x - (1 / L) * grad_huber\n",
    "    \n",
    "    return x, maxit\n",
    "        "
   ]
  },
  {
   "cell_type": "code",
   "execution_count": 105,
   "metadata": {},
   "outputs": [],
   "source": [
    "def huber_driver():\n",
    "    df = pd.read_csv('data.csv')\n",
    "    df_data = df.copy()\n",
    "    df_data['Period'] = df_data.index.values + 1\n",
    "    even_rows = df_data[df_data.index % 2 == 0]\n",
    "    odd_rows = df_data[df_data.index % 2 != 0]\n",
    "    A= list(df_data['Period'])\n",
    "    A_train = list(odd_rows['Period'])\n",
    "    A_train = np.column_stack((np.ones(len(A_train)), A_train))\n",
    "    y_train = list(odd_rows['Scheduled'])\n",
    "    A_test = list(even_rows['Period'])\n",
    "    y_test = list(even_rows['Scheduled'])\n",
    "    tau = 25000\n",
    "\n",
    "    grad_func = lambda x: huber_gradient_func(A_train, y_train, x, tau)\n",
    "    w, it = accelerated_gradient_descent(gradf=grad_func, L=4.28e6, y=np.array([0, 0]),tol=5000, maxit=1000000)\n",
    "    fig, ax = plt.subplots(figsize=(10, 10)) \n",
    "    ax.scatter(df_data['Period'], df_data['Scheduled'], label='Actual', s=6)\n",
    "    ax.plot(df_data['Period'], np.dot(np.column_stack((np.ones(len(df_data)), df_data['Period'])), w), color='green', label='Huber Regression')\n",
    "    plt.show()\n",
    "    print(f\"Number of iterations: {it}\")\n",
    "\n",
    "    \n"
   ]
  },
  {
   "cell_type": "code",
   "execution_count": 64,
   "metadata": {},
   "outputs": [],
   "source": [
    "def norm_residuals(A, y, weights):\n",
    "    A = np.column_stack((np.ones(len(A)), A))\n",
    "    residuals = np.dot(A, weights)-y\n",
    "    return np.linalg.norm(residuals)"
   ]
  },
  {
   "cell_type": "code",
   "execution_count": 67,
   "metadata": {},
   "outputs": [],
   "source": [
    "def error_rate(A, y, weights):\n",
    "    A = np.column_stack((np.ones(len(A)), A))\n",
    "    residuals = np.dot(A, weights)-y\n",
    "    errors = np.abs(residuals) <50000\n",
    "    return f\"{errors.sum()}/{len(errors)}\""
   ]
  },
  {
   "cell_type": "code",
   "execution_count": 80,
   "metadata": {},
   "outputs": [],
   "source": [
    "df = pd.read_csv('census_2021_extract.csv', header=None)\n",
    "df = df[[2,3]]"
   ]
  },
  {
   "cell_type": "code",
   "execution_count": 81,
   "metadata": {},
   "outputs": [],
   "source": [
    "train_data = df.to_numpy()\n",
    "radius = 100000"
   ]
  },
  {
   "cell_type": "code",
   "execution_count": 96,
   "metadata": {},
   "outputs": [
    {
     "data": {
      "image/png": "[encoded data removed]",
      "text/plain": [
       "<Figure size 720x720 with 1 Axes>"
      ]
     },
     "metadata": {
      "needs_background": "light"
     },
     "output_type": "display_data"
    },
    {
     "name": "stdout",
     "output_type": "stream",
     "text": [
      "Number of points inside the circle: 10270\n",
      "Number of iterations: 157\n",
      "Facility location: [7193725.22471926 1016738.22622094]\n"
     ]
    }
   ],
   "source": [
    "family_driver()"
   ]
  },
  {
   "cell_type": "code",
   "execution_count": 106,
   "metadata": {},
   "outputs": [
    {
     "data": {
      "image/png": "[encoded data removed]",
      "text/plain": [
       "<Figure size 720x720 with 1 Axes>"
      ]
     },
     "metadata": {
      "needs_background": "light"
     },
     "output_type": "display_data"
    },
    {
     "name": "stdout",
     "output_type": "stream",
     "text": [
      "Number of iterations: 3318\n"
     ]
    }
   ],
   "source": [
    "huber_driver()"
   ]
  },
  {
   "cell_type": "code",
   "execution_count": 5,
   "metadata": {},
   "outputs": [],
   "source": [
    "A_train = np.array(A_train)"
   ]
  },
  {
   "cell_type": "code",
   "execution_count": 6,
   "metadata": {},
   "outputs": [],
   "source": [
    "df_data['Period'] = df_data.index.values + 1"
   ]
  },
  {
   "cell_type": "code",
   "execution_count": 55,
   "metadata": {},
   "outputs": [],
   "source": [
    "even_rows = df_data[df_data.index % 2 == 0]\n",
    "odd_rows = df_data[df_data.index % 2 != 0]\n"
   ]
  },
  {
   "cell_type": "code",
   "execution_count": 56,
   "metadata": {},
   "outputs": [],
   "source": [
    "A= list(df_data['Period'])"
   ]
  },
  {
   "cell_type": "code",
   "execution_count": 58,
   "metadata": {},
   "outputs": [],
   "source": [
    "A_train = list(odd_rows['Period'])\n",
    "y_train = list(odd_rows['Scheduled'])\n",
    "A_test = list(even_rows['Period'])\n",
    "y_test = list(even_rows['Scheduled'])"
   ]
  },
  {
   "cell_type": "code",
   "execution_count": 59,
   "metadata": {},
   "outputs": [],
   "source": [
    "weights_linear = linear_regression(A_train, y_train)"
   ]
  },
  {
   "cell_type": "code",
   "execution_count": 60,
   "metadata": {},
   "outputs": [
    {
     "name": "stdout",
     "output_type": "stream",
     "text": [
      "Iteration: 0 Weights: [0 0]\n",
      "Iteration: 10000 Weights: [3468.08064628 2325.6452417 ]\n",
      "Iteration: 20000 Weights: [6925.54111609 2309.25526965]\n",
      "Iteration: 30000 Weights: [10381.79112087  2292.73546521]\n",
      "Iteration: 40000 Weights: [13836.70143476  2276.22206408]\n",
      "Iteration: 50000 Weights: [17290.27257705  2259.71506377]\n",
      "Iteration: 60000 Weights: [20742.50506681  2243.21446181]\n",
      "Iteration: 70000 Weights: [24193.39942294  2226.72025571]\n",
      "Iteration: 80000 Weights: [27642.91686633  2210.36584661]\n",
      "Iteration: 90000 Weights: [31090.90500446  2194.11273859]\n",
      "Iteration: 100000 Weights: [34537.34520363  2177.88751663]\n",
      "Iteration: 110000 Weights: [37982.16545606  2161.7599916 ]\n",
      "Iteration: 120000 Weights: [41425.32006973  2145.60807538]\n",
      "Iteration: 130000 Weights: [44866.70172339  2129.40299818]\n",
      "Iteration: 140000 Weights: [48306.27961129  2113.20641471]\n",
      "Iteration: 150000 Weights: [51744.05467884  2097.01832052]\n",
      "Iteration: 160000 Weights: [55180.02787097  2080.83871115]\n",
      "Iteration: 170000 Weights: [58614.20080794  2064.67551061]\n",
      "Iteration: 180000 Weights: [62046.75882876  2048.64017997]\n",
      "Iteration: 190000 Weights: [65477.84686576  2032.61171641]\n",
      "Iteration: 200000 Weights: [68907.46554847  2016.590117  ]\n",
      "Iteration: 210000 Weights: [72335.61550612  2000.57537879]\n",
      "Iteration: 220000 Weights: [75762.2973677   1984.56749886]\n",
      "Iteration: 230000 Weights: [79187.51176191  1968.56647425]\n",
      "Iteration: 240000 Weights: [82611.25879713  1952.58239581]\n",
      "Iteration: 250000 Weights: [86033.50621115  1936.66440019]\n",
      "Iteration: 260000 Weights: [89454.15604404  1920.66556058]\n",
      "Iteration: 270000 Weights: [92873.08482582  1904.66225968]\n",
      "Iteration: 280000 Weights: [96290.29191308  1888.66701769]\n",
      "Iteration: 290000 Weights: [99705.77817284  1872.67983053]\n",
      "Iteration: 300000 Weights: [103119.54447166   1856.70069415]\n",
      "Iteration: 310000 Weights: [106531.59167567   1840.7296045 ]\n",
      "Iteration: 320000 Weights: [109941.92065058   1824.76655753]\n",
      "Iteration: 330000 Weights: [113350.53226164   1808.81154919]\n",
      "Iteration: 340000 Weights: [116757.42737367   1792.86457542]\n",
      "Iteration: 350000 Weights: [120162.57641269   1776.87353002]\n",
      "Iteration: 360000 Weights: [123565.81966726   1760.84515144]\n",
      "Iteration: 370000 Weights: [126967.14540397   1744.78613782]\n",
      "Iteration: 380000 Weights: [130366.43739986   1728.62614117]\n",
      "Iteration: 390000 Weights: [133763.55719987   1712.47460555]\n",
      "Iteration: 400000 Weights: [137158.50616302   1696.33339113]\n",
      "Iteration: 410000 Weights: [140551.28567652   1680.20249131]\n",
      "Iteration: 420000 Weights: [143941.8971267    1664.08189951]\n",
      "Iteration: 430000 Weights: [147330.341899     1647.97160913]\n",
      "Iteration: 440000 Weights: [150716.32111996   1631.73917429]\n",
      "Iteration: 450000 Weights: [154099.4082893    1615.48422524]\n",
      "Iteration: 460000 Weights: [157479.22436676   1599.07180952]\n",
      "Iteration: 470000 Weights: [160854.97380128   1582.62198301]\n",
      "Iteration: 480000 Weights: [164226.5907383    1566.19229392]\n",
      "Iteration: 490000 Weights: [167594.0802367    1549.78271759]\n",
      "Iteration: 500000 Weights: [170957.44734919   1533.3932294 ]\n",
      "Iteration: 510000 Weights: [174316.69712226   1517.02380476]\n",
      "Iteration: 520000 Weights: [177671.83459625   1500.67441911]\n",
      "Iteration: 530000 Weights: [181022.86480533   1484.34504792]\n",
      "Iteration: 540000 Weights: [184369.79277748   1468.03566668]\n",
      "Iteration: 550000 Weights: [187712.39266566   1451.65573668]\n",
      "Iteration: 560000 Weights: [191049.75165915   1435.19246744]\n",
      "Iteration: 570000 Weights: [194381.93554069   1418.68089704]\n",
      "Iteration: 580000 Weights: [197708.9911061    1402.19473837]\n",
      "Iteration: 590000 Weights: [201030.92624797   1385.73395232]\n",
      "Iteration: 600000 Weights: [204347.74884677   1369.29849984]\n",
      "Iteration: 610000 Weights: [207659.46677084   1352.88834194]\n",
      "Iteration: 620000 Weights: [210966.21078511   1336.59403862]\n",
      "Iteration: 630000 Weights: [214268.13085421   1320.26342219]\n",
      "Iteration: 640000 Weights: [217564.92306976   1303.81438704]\n",
      "Iteration: 650000 Weights: [220856.28387593   1287.25134893]\n",
      "Iteration: 660000 Weights: [224142.02112902   1270.68612302]\n",
      "Iteration: 670000 Weights: [227422.12912291   1254.13311337]\n",
      "Iteration: 680000 Weights: [230696.59601575   1237.58919652]\n",
      "Iteration: 690000 Weights: [233965.42734815   1221.07375277]\n",
      "Iteration: 700000 Weights: [237228.57039571   1204.52541676]\n",
      "Iteration: 710000 Weights: [240485.83881646   1187.97707755]\n",
      "Iteration: 720000 Weights: [243737.22887545   1171.45860298]\n",
      "Iteration: 730000 Weights: [246982.75118129   1154.96993915]\n",
      "Iteration: 740000 Weights: [250222.41632347   1138.51103225]\n",
      "Iteration: 750000 Weights: [253456.23487236   1122.08182859]\n",
      "Iteration: 760000 Weights: [256684.21737924   1105.68227456]\n",
      "Iteration: 770000 Weights: [259906.37437637   1089.31231664]\n",
      "Iteration: 780000 Weights: [263122.716377     1072.97190144]\n",
      "Iteration: 790000 Weights: [266333.25387538   1056.66097563]\n",
      "Iteration: 800000 Weights: [269537.31908175   1040.18898194]\n",
      "Iteration: 810000 Weights: [272734.41706949   1023.66429619]\n",
      "Iteration: 820000 Weights: [275924.64216928   1007.12602319]\n",
      "Iteration: 830000 Weights: [279108.0443315     990.61541267]\n",
      "Iteration: 840000 Weights: [282284.63198182    974.11734701]\n",
      "Iteration: 850000 Weights: [285454.36861306    957.62573351]\n",
      "Iteration: 860000 Weights: [288617.25840636    941.16974297]\n",
      "Iteration: 870000 Weights: [291773.22780038    924.88313074]\n",
      "Iteration: 880000 Weights: [294920.93657183    908.94235497]\n",
      "Iteration: 890000 Weights: [298059.9444961     893.06394442]\n",
      "Iteration: 900000 Weights: [301189.33805734    877.44727346]\n",
      "Iteration: 910000 Weights: [304308.27316895    861.8745067 ]\n",
      "Iteration: 920000 Weights: [307416.73153029    846.31103939]\n",
      "Iteration: 930000 Weights: [310514.57630949    830.83046608]\n",
      "Iteration: 940000 Weights: [313602.2673419     815.42160333]\n",
      "Iteration: 950000 Weights: [316676.9512365     800.01246176]\n",
      "Iteration: 960000 Weights: [319736.49837099    784.63031766]\n",
      "Iteration: 970000 Weights: [322780.70802605    769.42716669]\n",
      "Iteration: 980000 Weights: [325808.27915556    754.35189912]\n",
      "Iteration: 990000 Weights: [328819.26266871    739.35922672]\n",
      "Iteration: 1000000 Weights: [331813.30794431    724.35151806]\n",
      "Iteration: 1010000 Weights: [334789.88765625    709.4575121 ]\n",
      "Iteration: 1020000 Weights: [337749.45976346    694.68546232]\n",
      "Iteration: 1030000 Weights: [340691.35784734    679.80176556]\n",
      "Iteration: 1040000 Weights: [343608.16652924    664.99481011]\n",
      "Iteration: 1050000 Weights: [346495.25323719    650.36575537]\n",
      "Iteration: 1060000 Weights: [349351.98711212    635.88187539]\n",
      "Iteration: 1070000 Weights: [352178.62742746    621.58383741]\n",
      "Iteration: 1080000 Weights: [354971.69749945    607.78381561]\n",
      "Iteration: 1090000 Weights: [357728.40795247    594.2251389 ]\n",
      "Iteration: 1100000 Weights: [360446.82105128    580.88935922]\n",
      "Iteration: 1110000 Weights: [363117.22088859    567.60675653]\n",
      "Iteration: 1120000 Weights: [365737.89821705    554.57147422]\n",
      "Iteration: 1130000 Weights: [368307.33095895    541.77234912]\n",
      "Iteration: 1140000 Weights: [370823.82941669    529.23637104]\n",
      "Iteration: 1150000 Weights: [373290.40220325    516.97929472]\n",
      "Iteration: 1160000 Weights: [375710.41049185    504.98808062]\n",
      "Iteration: 1170000 Weights: [378084.17151921    493.29646929]\n",
      "Iteration: 1180000 Weights: [380411.03684573    481.83057515]\n",
      "Iteration: 1190000 Weights: [382688.12589524    470.54856739]\n",
      "Iteration: 1200000 Weights: [384911.10452515    459.5282521 ]\n",
      "Iteration: 1210000 Weights: [387080.11860236    448.73480657]\n",
      "Iteration: 1220000 Weights: [389195.45565067    438.146366  ]\n",
      "Iteration: 1230000 Weights: [391258.23377078    427.82101215]\n",
      "Iteration: 1240000 Weights: [393268.49220389    417.74894536]\n",
      "Iteration: 1250000 Weights: [395224.85621436    407.94429062]\n",
      "Iteration: 1260000 Weights: [397128.04384112    398.41357258]\n",
      "Iteration: 1270000 Weights: [3.98980887e+05 3.88988488e+02]\n",
      "Iteration: 1280000 Weights: [4.00783980e+05 3.79747428e+02]\n",
      "Iteration: 1290000 Weights: [4.02538186e+05 3.70749004e+02]\n",
      "Iteration: 1300000 Weights: [4.04242820e+05 3.62055427e+02]\n",
      "Iteration: 1310000 Weights: [4.05896668e+05 3.53597783e+02]\n",
      "Iteration: 1320000 Weights: [4.07498503e+05 3.45390079e+02]\n",
      "Iteration: 1330000 Weights: [4.09047911e+05 3.37443041e+02]\n",
      "Iteration: 1340000 Weights: [4.10547877e+05 3.29751019e+02]\n",
      "Iteration: 1350000 Weights: [4.12001982e+05 3.22294356e+02]\n",
      "Iteration: 1360000 Weights: [4.13411423e+05 3.15039215e+02]\n",
      "Iteration: 1370000 Weights: [4.14777790e+05 3.08015969e+02]\n",
      "Iteration: 1380000 Weights: [4.16103038e+05 3.01149359e+02]\n",
      "Iteration: 1390000 Weights: [4.17385313e+05 2.94387720e+02]\n",
      "Iteration: 1400000 Weights: [4.18623473e+05 2.87905857e+02]\n",
      "Iteration: 1410000 Weights: [4.19819744e+05 2.81641695e+02]\n",
      "Iteration: 1420000 Weights: [4.20976699e+05 2.75570376e+02]\n",
      "Iteration: 1430000 Weights: [4.22094357e+05 2.69771083e+02]\n",
      "Iteration: 1440000 Weights: [4.23173357e+05 2.64215050e+02]\n",
      "Iteration: 1450000 Weights: [4.24214258e+05 2.58831791e+02]\n",
      "Iteration: 1460000 Weights: [4.25217581e+05 2.53632684e+02]\n",
      "Iteration: 1470000 Weights: [4.26184600e+05 2.48617859e+02]\n",
      "Iteration: 1480000 Weights: [4.27115589e+05 2.43780684e+02]\n",
      "Iteration: 1490000 Weights: [4.28011528e+05 2.39125613e+02]\n",
      "Iteration: 1500000 Weights: [4.28873713e+05 2.34663687e+02]\n",
      "Iteration: 1510000 Weights: [4.29703220e+05 2.30392699e+02]\n",
      "Iteration: 1520000 Weights: [4.30501239e+05 2.26278073e+02]\n",
      "Iteration: 1530000 Weights: [4.31268863e+05 2.22311501e+02]\n",
      "Iteration: 1540000 Weights: [4.32007225e+05 2.18496137e+02]\n",
      "Iteration: 1550000 Weights: [4.32717440e+05 2.14824092e+02]\n",
      "Iteration: 1560000 Weights: [4.33401062e+05 2.11274171e+02]\n",
      "Iteration: 1570000 Weights: [4.34060301e+05 2.07802499e+02]\n",
      "Iteration: 1580000 Weights: [4.34696046e+05 2.04447183e+02]\n",
      "Iteration: 1590000 Weights: [4.35309105e+05 2.01211598e+02]\n",
      "Iteration: 1600000 Weights: [4.35900287e+05 1.98091470e+02]\n",
      "Iteration: 1610000 Weights: [4.36470374e+05 1.95082680e+02]\n",
      "Iteration: 1620000 Weights: [4.37020119e+05 1.92181254e+02]\n",
      "Iteration: 1630000 Weights: [4.37550246e+05 1.89383362e+02]\n",
      "Iteration: 1640000 Weights: [4.38061457e+05 1.86685308e+02]\n",
      "Iteration: 1650000 Weights: [4.38554441e+05 1.84084642e+02]\n",
      "Iteration: 1660000 Weights: [4.39030362e+05 1.81578877e+02]\n",
      "Iteration: 1670000 Weights: [4.39490061e+05 1.79158523e+02]\n",
      "Iteration: 1680000 Weights: [4.39934069e+05 1.76832598e+02]\n",
      "Iteration: 1690000 Weights: [4.40362828e+05 1.74594427e+02]\n",
      "Iteration: 1700000 Weights: [4.40776853e+05 1.72433172e+02]\n",
      "Iteration: 1710000 Weights: [4.41176649e+05 1.70346191e+02]\n",
      "Iteration: 1720000 Weights: [4.41562705e+05 1.68330931e+02]\n",
      "Iteration: 1730000 Weights: [4.41935425e+05 1.66383844e+02]\n",
      "Iteration: 1740000 Weights: [4.42294764e+05 1.64504922e+02]\n",
      "Iteration: 1750000 Weights: [4.42641105e+05 1.62693967e+02]\n",
      "Iteration: 1760000 Weights: [4.42974917e+05 1.60948521e+02]\n",
      "Iteration: 1770000 Weights: [4.4329658e+05 1.5927889e+02]\n",
      "Iteration: 1780000 Weights: [4.43606161e+05 1.57670699e+02]\n",
      "Iteration: 1790000 Weights: [4.43904030e+05 1.56123343e+02]\n",
      "Iteration: 1800000 Weights: [4.44190633e+05 1.54635926e+02]\n",
      "Iteration: 1810000 Weights: [4.44466415e+05 1.53207341e+02]\n",
      "Iteration: 1820000 Weights: [4.44731790e+05 1.51832668e+02]\n",
      "Iteration: 1830000 Weights: [4.4498715e+05 1.5050987e+02]\n",
      "Iteration: 1840000 Weights: [4.45233100e+05 1.49237065e+02]\n",
      "Iteration: 1850000 Weights: [4.45470255e+05 1.48009841e+02]\n",
      "Iteration: 1860000 Weights: [4.4569893e+05 1.4682650e+02]\n",
      "Iteration: 1870000 Weights: [4.45919428e+05 1.45685472e+02]\n",
      "Iteration: 1880000 Weights: [4.46131943e+05 1.44582703e+02]\n",
      "Iteration: 1890000 Weights: [4.46336592e+05 1.43520187e+02]\n",
      "Iteration: 1900000 Weights: [4.46533664e+05 1.42497014e+02]\n",
      "Iteration: 1910000 Weights: [4.46723438e+05 1.41511726e+02]\n",
      "Iteration: 1920000 Weights: [4.46906186e+05 1.40562922e+02]\n",
      "Iteration: 1930000 Weights: [4.47082166e+05 1.39649251e+02]\n",
      "Iteration: 1940000 Weights: [4.47251631e+05 1.38769411e+02]\n",
      "Iteration: 1950000 Weights: [4.47414820e+05 1.37922149e+02]\n",
      "Iteration: 1960000 Weights: [4.47572063e+05 1.37106086e+02]\n",
      "Iteration: 1970000 Weights: [4.47723791e+05 1.36316126e+02]\n",
      "Iteration: 1980000 Weights: [4.47870183e+05 1.35553516e+02]\n",
      "Iteration: 1990000 Weights: [4.48011428e+05 1.34817723e+02]\n",
      "Iteration: 2000000 Weights: [4.48147705e+05 1.34107806e+02]\n",
      "Iteration: 2010000 Weights: [4.48279191e+05 1.33422853e+02]\n",
      "Iteration: 2020000 Weights: [4.48406052e+05 1.32761988e+02]\n",
      "Iteration: 2030000 Weights: [4.48528452e+05 1.32124363e+02]\n",
      "Iteration: 2040000 Weights: [4.48646548e+05 1.31509160e+02]\n",
      "Iteration: 2050000 Weights: [4.48760491e+05 1.30915592e+02]\n",
      "Iteration: 2060000 Weights: [4.48870427e+05 1.30342897e+02]\n",
      "Iteration: 2070000 Weights: [4.48976497e+05 1.29790342e+02]\n",
      "Iteration: 2080000 Weights: [4.49078836e+05 1.29257218e+02]\n",
      "Iteration: 2090000 Weights: [4.49177577e+05 1.28742842e+02]\n",
      "Iteration: 2100000 Weights: [4.49272846e+05 1.28246554e+02]\n",
      "Iteration: 2110000 Weights: [4.49364764e+05 1.27767719e+02]\n",
      "Iteration: 2120000 Weights: [4.49453450e+05 1.27305722e+02]\n",
      "Iteration: 2130000 Weights: [4.49539018e+05 1.26859972e+02]\n",
      "Iteration: 2140000 Weights: [4.49621576e+05 1.26429898e+02]\n",
      "Iteration: 2150000 Weights: [4.49701231e+05 1.26014947e+02]\n",
      "Iteration: 2160000 Weights: [4.49778085e+05 1.25614589e+02]\n",
      "Iteration: 2170000 Weights: [4.49852236e+05 1.25228309e+02]\n",
      "Iteration: 2180000 Weights: [4.49923779e+05 1.24855614e+02]\n",
      "Iteration: 2190000 Weights: [4.49992807e+05 1.24496025e+02]\n",
      "Iteration: 2200000 Weights: [4.50059407e+05 1.24149081e+02]\n",
      "Iteration: 2210000 Weights: [4.50123665e+05 1.23814338e+02]\n",
      "Iteration: 2220000 Weights: [4.50185664e+05 1.23491366e+02]\n",
      "Iteration: 2230000 Weights: [4.50245482e+05 1.23179752e+02]\n",
      "Iteration: 2240000 Weights: [4.50303197e+05 1.22879096e+02]\n",
      "Iteration: 2250000 Weights: [4.50358882e+05 1.22589013e+02]\n",
      "Iteration: 2260000 Weights: [4.50412608e+05 1.22309132e+02]\n",
      "Iteration: 2270000 Weights: [4.50464446e+05 1.22039092e+02]\n",
      "Iteration: 2280000 Weights: [4.50514460e+05 1.21778549e+02]\n",
      "Iteration: 2290000 Weights: [4.50562716e+05 1.21527168e+02]\n",
      "Iteration: 2300000 Weights: [4.50609275e+05 1.21284627e+02]\n",
      "Iteration: 2310000 Weights: [4.50654196e+05 1.21050616e+02]\n",
      "Iteration: 2320000 Weights: [4.50697538e+05 1.20824833e+02]\n",
      "Iteration: 2330000 Weights: [4.50739356e+05 1.20606991e+02]\n",
      "Iteration: 2340000 Weights: [4.50779703e+05 1.20396809e+02]\n",
      "Iteration: 2350000 Weights: [4.50818631e+05 1.20194018e+02]\n",
      "Iteration: 2360000 Weights: [4.50856190e+05 1.19998359e+02]\n",
      "Iteration: 2370000 Weights: [4.50892428e+05 1.19809580e+02]\n",
      "Iteration: 2380000 Weights: [4.50927393e+05 1.19627440e+02]\n",
      "Iteration: 2390000 Weights: [4.50961127e+05 1.19451705e+02]\n",
      "Iteration: 2400000 Weights: [4.50993675e+05 1.19282150e+02]\n",
      "Iteration: 2410000 Weights: [4.51025079e+05 1.19118558e+02]\n",
      "Iteration: 2420000 Weights: [4.51055378e+05 1.18960718e+02]\n",
      "Iteration: 2430000 Weights: [4.51084612e+05 1.18808430e+02]\n",
      "Iteration: 2440000 Weights: [4.51112818e+05 1.18661496e+02]\n",
      "Iteration: 2450000 Weights: [4.51140031e+05 1.18519730e+02]\n",
      "Iteration: 2460000 Weights: [4.51166288e+05 1.18382949e+02]\n",
      "Iteration: 2470000 Weights: [4.51191622e+05 1.18250977e+02]\n",
      "Iteration: 2480000 Weights: [4.51216064e+05 1.18123647e+02]\n",
      "Iteration: 2490000 Weights: [4.51239647e+05 1.18000795e+02]\n",
      "Iteration: 2500000 Weights: [4.51262401e+05 1.17882263e+02]\n",
      "Iteration: 2510000 Weights: [4.51284355e+05 1.17767899e+02]\n",
      "Iteration: 2520000 Weights: [4.51305536e+05 1.17657557e+02]\n",
      "Iteration: 2530000 Weights: [4.51325973e+05 1.17551095e+02]\n",
      "Iteration: 2540000 Weights: [4.51345691e+05 1.17448377e+02]\n",
      "Iteration: 2550000 Weights: [4.51364716e+05 1.17349271e+02]\n",
      "Iteration: 2560000 Weights: [4.51383071e+05 1.17253650e+02]\n",
      "Iteration: 2570000 Weights: [4.51400781e+05 1.17161392e+02]\n",
      "Iteration: 2580000 Weights: [4.51417869e+05 1.17072379e+02]\n",
      "Iteration: 2590000 Weights: [4.51434355e+05 1.16986495e+02]\n",
      "Iteration: 2600000 Weights: [4.51450262e+05 1.16903632e+02]\n",
      "Iteration: 2610000 Weights: [4.51465609e+05 1.16823683e+02]\n",
      "Iteration: 2620000 Weights: [4.51480416e+05 1.16746545e+02]\n",
      "Iteration: 2630000 Weights: [4.51494703e+05 1.16672120e+02]\n",
      "Iteration: 2640000 Weights: [4.51508488e+05 1.16600312e+02]\n",
      "Iteration: 2650000 Weights: [4.51521787e+05 1.16531029e+02]\n",
      "Iteration: 2660000 Weights: [4.51534619e+05 1.16464185e+02]\n",
      "Iteration: 2670000 Weights: [4.51547001e+05 1.16399859e+02]\n",
      "Iteration: 2680000 Weights: [4.51558947e+05 1.16337790e+02]\n"
     ]
    }
   ],
   "source": [
    "weights_huber = huber_gd(A_train, y_train, np.array([0, 0]), 25000, 4.28e6, 5000, 10**7)"
   ]
  },
  {
   "cell_type": "code",
   "execution_count": 62,
   "metadata": {},
   "outputs": [],
   "source": [
    "iterations  = weights_huber[1]\n",
    "weights_huber  = weights_huber[0]"
   ]
  },
  {
   "cell_type": "code",
   "execution_count": 65,
   "metadata": {},
   "outputs": [],
   "source": [
    "residuals_linear = norm_residuals(A_test, y_test, weights_linear)\n",
    "residuals_huber = norm_residuals(A_test, y_test, weights_huber)"
   ]
  },
  {
   "cell_type": "code",
   "execution_count": 66,
   "metadata": {},
   "outputs": [
    {
     "data": {
      "text/plain": [
       "(661985.6964520344, 669942.8508987797, 2681260)"
      ]
     },
     "execution_count": 66,
     "metadata": {},
     "output_type": "execute_result"
    }
   ],
   "source": [
    "residuals_linear, residuals_huber, iterations"
   ]
  },
  {
   "cell_type": "code",
   "execution_count": 68,
   "metadata": {},
   "outputs": [],
   "source": [
    "error_linear = error_rate(A_test, y_test, weights_linear)\n",
    "error_huber = error_rate(A_test, y_test, weights_huber)"
   ]
  },
  {
   "cell_type": "code",
   "execution_count": 69,
   "metadata": {},
   "outputs": [
    {
     "data": {
      "text/plain": [
       "('115/147', '117/147')"
      ]
     },
     "execution_count": 69,
     "metadata": {},
     "output_type": "execute_result"
    }
   ],
   "source": [
    "error_linear, error_huber"
   ]
  },
  {
   "cell_type": "code",
   "execution_count": 70,
   "metadata": {},
   "outputs": [
    {
     "data": {
      "text/plain": [
       "'117/147'"
      ]
     },
     "execution_count": 70,
     "metadata": {},
     "output_type": "execute_result"
    }
   ],
   "source": [
    "error_huber"
   ]
  },
  {
   "cell_type": "code",
   "execution_count": 72,
   "metadata": {},
   "outputs": [
    {
     "data": {
      "image/png": "[encoded data removed]",
      "text/plain": [
       "<Figure size 432x288 with 1 Axes>"
      ]
     },
     "metadata": {
      "needs_background": "light"
     },
     "output_type": "display_data"
    }
   ],
   "source": [
    "import matplotlib.pyplot as plt\n",
    "\n",
    "# Plotting the original data\n",
    "plt.scatter(df_data['Period'], df_data['Scheduled'], label='Actual', s=6)\n",
    "\n",
    "# Plotting the predicted values using weights_linear\n",
    "plt.plot(df_data['Period'], np.dot(np.column_stack((np.ones(len(df_data)), df_data['Period'])), weights_linear), color='red', label='Linear Regression')\n",
    "\n",
    "# Plotting the predicted values using weights_huber\n",
    "plt.plot(df_data['Period'], np.dot(np.column_stack((np.ones(len(df_data)), df_data['Period'])), weights_huber), color='green', label='Huber Regression')\n",
    "\n",
    "plt.xlabel('Period')\n",
    "plt.ylabel('Miles Scheduled')\n",
    "plt.legend()\n",
    "plt.show()\n"
   ]
  },
  {
   "cell_type": "code",
   "execution_count": 74,
   "metadata": {},
   "outputs": [
    {
     "name": "stdout",
     "output_type": "stream",
     "text": [
      "Iteration: 0 Weights: [0 0]\n",
      "Iteration: 100000 Weights: [34537.34520363  2177.88751663]\n",
      "Iteration: 200000 Weights: [68907.46554847  2016.590117  ]\n",
      "Iteration: 300000 Weights: [103119.54447166   1856.70069415]\n",
      "Iteration: 400000 Weights: [137158.50616302   1696.33339113]\n",
      "Iteration: 500000 Weights: [170957.44734919   1533.3932294 ]\n",
      "Iteration: 600000 Weights: [204347.74884677   1369.29849984]\n",
      "Iteration: 700000 Weights: [237228.57039571   1204.52541676]\n",
      "Iteration: 800000 Weights: [269537.31908175   1040.18898194]\n",
      "Iteration: 900000 Weights: [301189.33805734    877.44727346]\n",
      "Iteration: 1000000 Weights: [331813.30794431    724.35151806]\n",
      "Iteration: 1100000 Weights: [360446.82105128    580.88935922]\n",
      "Iteration: 1200000 Weights: [384911.10452515    459.5282521 ]\n",
      "Iteration: 1300000 Weights: [4.04242820e+05 3.62055427e+02]\n",
      "Iteration: 1400000 Weights: [4.18623473e+05 2.87905857e+02]\n",
      "Iteration: 1500000 Weights: [4.28873713e+05 2.34663687e+02]\n",
      "Iteration: 1600000 Weights: [4.35900287e+05 1.98091470e+02]\n",
      "Iteration: 1700000 Weights: [4.40776853e+05 1.72433172e+02]\n",
      "Iteration: 1800000 Weights: [4.44190633e+05 1.54635926e+02]\n",
      "Iteration: 1900000 Weights: [4.46533664e+05 1.42497014e+02]\n",
      "Iteration: 2000000 Weights: [4.48147705e+05 1.34107806e+02]\n",
      "Iteration: 2100000 Weights: [4.49272846e+05 1.28246554e+02]\n",
      "Iteration: 2200000 Weights: [4.50059407e+05 1.24149081e+02]\n",
      "Iteration: 2300000 Weights: [4.50609275e+05 1.21284627e+02]\n",
      "Iteration: 2400000 Weights: [4.50993675e+05 1.19282150e+02]\n",
      "Iteration: 2500000 Weights: [4.51262401e+05 1.17882263e+02]\n",
      "Iteration: 2600000 Weights: [4.51450262e+05 1.16903632e+02]\n",
      "Linear Regression residuals: 661985.6964520344\n",
      "Huber Regression residuals: 669942.8508987797\n",
      "Huber Regression iterations: 2681260\n",
      "Linear Regression error rate: 115/147\n",
      "Huber Regression error rate: 117/147\n"
     ]
    },
    {
     "data": {
      "image/png": "[encoded data removed]",
      "text/plain": [
       "<Figure size 432x288 with 1 Axes>"
      ]
     },
     "metadata": {
      "needs_background": "light"
     },
     "output_type": "display_data"
    }
   ],
   "source": [
    "df = pd.read_csv('data.csv')\n",
    "df_data = df.copy()\n",
    "df_data['Period'] = df_data.index.values + 1\n",
    "even_rows = df_data[df_data.index % 2 == 0]\n",
    "odd_rows = df_data[df_data.index % 2 != 0]\n",
    "A= list(df_data['Period'])\n",
    "A_train = list(odd_rows['Period'])\n",
    "y_train = list(odd_rows['Scheduled'])\n",
    "A_test = list(even_rows['Period'])\n",
    "y_test = list(even_rows['Scheduled'])\n",
    "weights_linear = linear_regression(A_train, y_train)\n",
    "weights_huber = huber_gd(A_train, y_train, np.array([0, 0]), 25000, 4.28e6, 5000, 10**7)\n",
    "iterations  = weights_huber[1]\n",
    "weights_huber  = weights_huber[0]\n",
    "residuals_linear = norm_residuals(A_test, y_test, weights_linear)\n",
    "residuals_huber = norm_residuals(A_test, y_test, weights_huber)\n",
    "\n",
    "print(f'Linear Regression residuals: {residuals_linear}')\n",
    "print(f'Huber Regression residuals: {residuals_huber}')\n",
    "print(f'Huber Regression iterations: {iterations}')\n",
    "\n",
    "\n",
    "error_linear = error_rate(A_test, y_test, weights_linear)\n",
    "error_huber = error_rate(A_test, y_test, weights_huber)\n",
    "\n",
    "print(f'Linear Regression error rate: {error_linear}')\n",
    "print(f'Huber Regression error rate: {error_huber}')\n",
    "\n",
    "# Plotting the original data\n",
    "plt.scatter(df_data['Period'], df_data['Scheduled'], label='Actual', s=6)\n",
    "\n",
    "# Plotting the predicted values using weights_linear\n",
    "plt.plot(df_data['Period'], np.dot(np.column_stack((np.ones(len(df_data)), df_data['Period'])), weights_linear), color='red', label='Linear Regression')\n",
    "\n",
    "# Plotting the predicted values using weights_huber\n",
    "plt.plot(df_data['Period'], np.dot(np.column_stack((np.ones(len(df_data)), df_data['Period'])), weights_huber), color='green', label='Huber Regression')\n",
    "\n",
    "plt.xlabel('Period')\n",
    "plt.ylabel('Miles Scheduled')\n",
    "plt.legend()\n",
    "plt.show()"
   ]
  }
 ],
 "metadata": {
  "kernelspec": {
   "display_name": "ml",
   "language": "python",
   "name": "python3"
  },
  "language_info": {
   "codemirror_mode": {
    "name": "ipython",
    "version": 3
   },
   "file_extension": ".py",
   "mimetype": "text/x-python",
   "name": "python",
   "nbconvert_exporter": "python",
   "pygments_lexer": "ipython3",
   "version": "3.7.11"
  }
 },
 "nbformat": 4,
 "nbformat_minor": 2
}
