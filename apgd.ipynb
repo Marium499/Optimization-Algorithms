{
 "cells": [
  {
   "cell_type": "markdown",
   "metadata": {},
   "source": [
    "## Sparse Spectrogram of *Für Elise* Using Proximal Optimization\n",
    "\n",
    "This notebook creates a sparse spectrogram of the classical music piece *Für Elise* using compressed sensing.\n",
    "The main steps include:\n",
    "- Audio normalization and chunking\n",
    "- Fourier basis generation using piano key frequencies\n",
    "- Sparse signal recovery using **Accelerated Proximal Gradient Descent (APGD)**\n",
    "- Spectrogram visualization\n"
   ]
  },
  {
   "cell_type": "code",
   "execution_count": 151,
   "metadata": {},
   "outputs": [],
   "source": [
    "import numpy as np\n",
    "from scipy.io import wavfile"
   ]
  },
  {
   "cell_type": "markdown",
   "metadata": {},
   "source": [
    "### Audio Preprocessing\n",
    "\n",
    "- `rescale_audio`: Normalizes audio data to fit within [-1, 1] range\n",
    "- `get_audio_chunks`: Splits the audio waveform into fixed-length segments (30ms)\n"
   ]
  },
  {
   "cell_type": "code",
   "execution_count": 152,
   "metadata": {},
   "outputs": [],
   "source": [
    "def rescale_audio(data):\n",
    "    if data.min() < -1 or data.max() > 1:\n",
    "        data = data / max(abs(data.min()), abs(data.max()))\n",
    "\n",
    "    return data\n",
    "\n",
    "def get_audio_chunks(data, chunk_size):\n",
    "    for i in range(0, len(data), chunk_size):\n",
    "        yield data[i:i + chunk_size]\n"
   ]
  },
  {
   "cell_type": "markdown",
   "metadata": {},
   "source": [
    "### Gradient and Proximal Operators\n",
    "\n",
    "- `grad_least_squares`: Gradient of the squared loss term \\( \\nabla_x \\|Ax - y\\|^2 \\)\n",
    "- `prox12norm`: Proximal operator for the 1-2 group norm (used for group sparsity)\n",
    "- `apgd`: Implements Accelerated Proximal Gradient Descent for faster convergence on composite objectives\n"
   ]
  },
  {
   "cell_type": "code",
   "execution_count": 154,
   "metadata": {},
   "outputs": [],
   "source": [
    "def grad_least_squares(A, x, y):\n",
    "    return A.T @ (A @ x - y)\n",
    "\n",
    "def prox12norm(x, gamma, d=2):\n",
    "    x = x.reshape(-1, d)\n",
    "    norm = np.linalg.norm(x, axis=1, keepdims=True)\n",
    "    factor = np.maximum(1 - gamma / norm, 0)\n",
    "    x = factor * x\n",
    "\n",
    "    return x.reshape(-1)\n",
    "def apgd(gradf, proxf, gamma, L, x, tol=1e-6, maxit=1e5):\n",
    "    # x = x0\n",
    "    z = x.copy()\n",
    "    t = 1\n",
    "    step_size = 1 / L\n",
    "    for i in range(maxit):\n",
    "        # grad step\n",
    "        grad = gradf(z)\n",
    "        x_next = proxf(z-step_size*grad, gamma*step_size)\n",
    "        # momentum step\n",
    "        t_new = (1 + np.sqrt(1 + 4 * t ** 2)) / 2\n",
    "        z_next = x_next + ((t - 1) / t_new) * (x_next - x)\n",
    "\n",
    "        if np.linalg.norm(x_next-x) <= tol:\n",
    "            # print(z)\n",
    "            return x_next,i\n",
    "        t = t_new\n",
    "        x = x_next\n",
    "        z = z_next\n",
    "\n",
    "\n",
    "        \n",
    "    # print(z)\n",
    "    return x, maxit+1"
   ]
  },
  {
   "cell_type": "markdown",
   "metadata": {},
   "source": [
    "\n",
    "- `get_piano_keys`: Returns fundamental frequencies for the 88 piano keys\n",
    "- `get_A`: Builds a matrix where each column is a sine or cosine function at a piano frequency\n",
    "  - This acts like a **Fourier basis tailored to piano notes**\n",
    "- `apgd_driver`: Runs sparse recovery on each 30ms chunk using the APGD solver.\n",
    "  - Reconstructs the activation of piano notes over time for each chunk.\n",
    "- `generate_spectograms`: Plots a sparse piano roll-like spectrogram over time.\n",
    "  - Strong activations (green) indicate likely note presence.\n",
    "  - Weaker activations (yellow) are shown with reduced intensity.\n",
    "\n",
    "\n"
   ]
  },
  {
   "cell_type": "code",
   "execution_count": 155,
   "metadata": {},
   "outputs": [],
   "source": [
    "def get_piano_keys():\n",
    "    keys = [27.5 * (2 ** (i / 12)) for i in range(88)]\n",
    "    return keys\n",
    "\n",
    "def get_A(frequencies, f_s, l):\n",
    "    A = np.zeros((l, 2*len(frequencies)))\n",
    "    for i, f in enumerate(frequencies):\n",
    "        for j in range(l):\n",
    "            A[j, 2 * i] = np.cos(2 * np.pi * f * j / f_s)\n",
    "            A[j, 2 * i + 1] = np.sin(2 * np.pi * f * j / f_s)\n",
    "    return A\n",
    "\n"
   ]
  },
  {
   "cell_type": "code",
   "execution_count": 156,
   "metadata": {},
   "outputs": [],
   "source": [
    "def apgd_driver(data, f_s, l, d = 2, gamma=4.0, tol=1e-6, maxit=10**5):\n",
    "\n",
    "    f = get_piano_keys()\n",
    "    A = get_A(f, f_s, l)\n",
    "    L = np.linalg.norm(A.T @ A, ord=2)\n",
    "    result = []\n",
    "    x0 = np.zeros(A.shape[1])\n",
    "    for i, y in enumerate(data[:-1]):\n",
    "        x, iters = apgd(lambda x: grad_least_squares(A,x,y), lambda x, t: prox12norm(x, t, d), gamma, L, x0, tol, maxit)\n",
    "\n",
    "        result.append(x)\n",
    "    return result\n"
   ]
  },
  {
   "cell_type": "code",
   "execution_count": null,
   "metadata": {},
   "outputs": [],
   "source": [
    "import matplotlib.pyplot as plt\n",
    "\n",
    "def generate_spectograms(weights, frequencies):\n",
    "    spectrograms = [np.sqrt(x[::2]**2 + x[1::2]**2) for x in weights]\n",
    "    spectrograms = np.array(spectrograms)\n",
    "\n",
    "    M = np.max(spectrograms)\n",
    "    plt.figure(figsize=(10, 6))\n",
    "    for i, x_bar in enumerate(spectrograms):\n",
    "        for j, val in enumerate(x_bar):\n",
    "            if val >= M / 8:\n",
    "                plt.hlines(frequencies[j], i * 0.03, (i + 1) * 0.03, color='green')\n",
    "            elif val > 0:\n",
    "                plt.hlines(frequencies[j], i * 0.03, (i + 1) * 0.03, color='yellow')\n",
    "    plt.xlabel(\"Time (s)\")\n",
    "    plt.ylabel(\"Frequency (Hz)\")\n",
    "    plt.title(\"Sparse Spectrogram of Für Elise\")\n",
    "    plt.show()"
   ]
  },
  {
   "cell_type": "code",
   "execution_count": 158,
   "metadata": {},
   "outputs": [
    {
     "name": "stderr",
     "output_type": "stream",
     "text": [
      "/opt/homebrew/anaconda3/envs/ml/lib/python3.7/site-packages/ipykernel_launcher.py:7: RuntimeWarning: divide by zero encountered in true_divide\n",
      "  import sys\n"
     ]
    },
    {
     "data": {
      "image/png": "[encoded data removed]",
      "text/plain": [
       "<Figure size 720x432 with 1 Axes>"
      ]
     },
     "metadata": {
      "needs_background": "light"
     },
     "output_type": "display_data"
    }
   ],
   "source": [
    "samplerate, data_orig = wavfile.read('furelise.wav')\n",
    "data = data_orig / np.max(np.abs(data_orig))\n",
    "l = round(0.03 * samplerate)\n",
    "audio_chunks = list(get_audio_chunks(data, l))\n",
    "num_blocks = len(data) // l\n",
    "\n",
    "result = apgd_driver(audio_chunks, samplerate, l)\n",
    "generate_spectograms(result, get_piano_keys())\n"
   ]
  },
  {
   "cell_type": "code",
   "execution_count": null,
   "metadata": {},
   "outputs": [],
   "source": []
  }
 ],
 "metadata": {
  "kernelspec": {
   "display_name": "ml",
   "language": "python",
   "name": "python3"
  },
  "language_info": {
   "codemirror_mode": {
    "name": "ipython",
    "version": 3
   },
   "file_extension": ".py",
   "mimetype": "text/x-python",
   "name": "python",
   "nbconvert_exporter": "python",
   "pygments_lexer": "ipython3",
   "version": "3.7.11"
  }
 },
 "nbformat": 4,
 "nbformat_minor": 2
}
